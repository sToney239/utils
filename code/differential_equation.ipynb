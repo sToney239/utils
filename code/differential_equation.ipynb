{
 "cells": [
  {
   "cell_type": "code",
   "execution_count": 39,
   "metadata": {},
   "outputs": [
    {
     "data": {
      "text/latex": [
       "$\\displaystyle y{\\left(x \\right)} + \\frac{d}{d x} y{\\left(x \\right)} = x^{2}$"
      ],
      "text/plain": [
       "Eq(y(x) + Derivative(y(x), x), x**2)"
      ]
     },
     "execution_count": 39,
     "metadata": {},
     "output_type": "execute_result"
    }
   ],
   "source": [
    "from sympy import symbols, Function, Eq, dsolve\n",
    "\n",
    "x = symbols('x')\n",
    "y = Function('y')(x)\n",
    "\n",
    "equation = Eq(y.diff(x) + y, x**2)\n",
    "solution = dsolve(equation)\n",
    "\n",
    "solution"
   ]
  },
  {
   "cell_type": "code",
   "execution_count": 54,
   "metadata": {},
   "outputs": [
    {
     "data": {
      "text/plain": [
       "{p: 0.622*e/mr, p0: 0.622*e/(mr*(T/T0)**K)}"
      ]
     },
     "execution_count": 54,
     "metadata": {},
     "output_type": "execute_result"
    }
   ],
   "source": [
    "from sympy import symbols, Function, Eq, solve, simplify\n",
    "e1 = symbols('e')\n",
    "e1_star = symbols('e_star')\n",
    "p = symbols('p')\n",
    "p0 = symbols('p0')\n",
    "T = symbols('T')\n",
    "T0 = symbols('T0')\n",
    "mr = symbols('mr')\n",
    "K = symbols('K')\n",
    "equation1 = Eq(mr,0.622 * e1 / p)\n",
    "equation2 = Eq(p, p0 * (T / T0)**K)\n",
    "equation3 = Eq(e1_star,6.11 * 10 **(7.5*T/T+273.3))\n",
    "\n",
    "solution = solve([equation1, equation2, equation3], [p0,p])\n",
    "\n",
    "# simplify(solution[0])\n",
    "solution"
   ]
  },
  {
   "cell_type": "code",
   "execution_count": 42,
   "metadata": {},
   "outputs": [
    {
     "data": {
      "text/plain": [
       "'y{\\\\left(x \\\\right)} = - \\\\frac{ET t}{z} + \\\\frac{P t}{z} - \\\\frac{R t}{z} + \\\\frac{\\\\left(ET t - P t + R t + y_{0} z\\\\right) e^{- \\\\frac{x}{t}}}{z}'"
      ]
     },
     "execution_count": 42,
     "metadata": {},
     "output_type": "execute_result"
    }
   ],
   "source": [
    "from sympy import symbols, Function, Eq, dsolve, latex, solve, lambdify\n",
    "\n",
    "x = symbols('x')\n",
    "P, R, ET = symbols(['P',\"R\",\"ET\"])\n",
    "z = symbols('z')\n",
    "t = symbols('t')\n",
    "y0 = symbols('y0')\n",
    "C1 = symbols(\"C1\") # must be defined\n",
    "y = Function('y')(x)\n",
    "\n",
    "# define the equation\n",
    "equation = Eq(y.diff(x) * z, P - R - ET - y/t *z )\n",
    "# solve the equation\n",
    "solution = dsolve(equation)\n",
    "\n",
    "# Substitute specific values for the constraint variables\n",
    "specific_solution = solution.subs({x: 0, y: y0})\n",
    "C1_solution = solve(specific_solution, \"C1\")[0]\n",
    "final_expression = solution.subs({C1: C1_solution})\n",
    "# print(latex(solution))\n",
    "# rhs for right hand side\n",
    "calc_t = lambdify([y0, P, R, ET, t, z, x], final_expression.rhs)\n",
    "calc_t(y0 = 0.46, t = 500, z = 30, ET = 0.25, P = 0, R = 0, x = 1)\n",
    "latex(final_expression)"
   ]
  },
  {
   "cell_type": "code",
   "execution_count": 10,
   "metadata": {},
   "outputs": [
    {
     "data": {
      "text/latex": [
       "$\\displaystyle C_{1} \\sin{\\left(x \\right)} + C_{2} \\cos{\\left(x \\right)}$"
      ],
      "text/plain": [
       "C1*sin(x) + C2*cos(x)"
      ]
     },
     "execution_count": 10,
     "metadata": {},
     "output_type": "execute_result"
    }
   ],
   "source": [
    "f = Function('f')\n",
    "sol = dsolve(f(x).diff(x,2)+f(x),f(x)).rhs\n",
    "sol"
   ]
  },
  {
   "cell_type": "code",
   "execution_count": null,
   "metadata": {},
   "outputs": [],
   "source": [
    "from sympy import symbols, Function, Eq, solve, simplify\n",
    "e1 = symbols('e')\n",
    "e1_star = symbols('e_star')\n",
    "p = symbols('p')\n",
    "p0 = symbols('p0')\n",
    "T = symbols('T')\n",
    "T0 = symbols('T0')\n",
    "mr = symbols('mr')\n",
    "K = symbols('K')\n",
    "equation1 = Eq(mr,0.622 * e1 / p)\n",
    "equation2 = Eq(p, p0 * (T / T0)**K)\n",
    "equation3 = Eq(e1_star,6.11 * 10 **(7.5*T/T+273.3))\n",
    "\n",
    "solution = solve([equation1, equation2, equation3], [p0,p])\n",
    "\n",
    "# simplify(solution[0])\n",
    "solution"
   ]
  },
  {
   "cell_type": "code",
   "execution_count": null,
   "metadata": {},
   "outputs": [],
   "source": [
    "from sympy import *\n",
    "f, g = symbols('f g', cls=Function)\n",
    "\n",
    "yp = f(x).diff(x)\n",
    "yp = f(x).diff(x)\n",
    "ypp = yp.diff(x)\n",
    "ypp = y(x).diff(x, x)\n",
    "ypp = Derivative(f(x), x, x)\n",
    "\n",
    "\n",
    "dsolve(eqs, [f(x), g(x)], ics={f(0): 1, g(2): 3})\n",
    "\n",
    "diffeq = Eq( f(x).diff(x, x) - 2*f(x).diff(x) + f(x), sin(x) )"
   ]
  }
 ],
 "metadata": {
  "kernelspec": {
   "display_name": "Python 3",
   "language": "python",
   "name": "python3"
  },
  "language_info": {
   "codemirror_mode": {
    "name": "ipython",
    "version": 3
   },
   "file_extension": ".py",
   "mimetype": "text/x-python",
   "name": "python",
   "nbconvert_exporter": "python",
   "pygments_lexer": "ipython3",
   "version": "3.10.11"
  },
  "orig_nbformat": 4
 },
 "nbformat": 4,
 "nbformat_minor": 2
}
